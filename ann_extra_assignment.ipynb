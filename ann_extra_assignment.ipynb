{
  "nbformat": 4,
  "nbformat_minor": 0,
  "metadata": {
    "colab": {
      "name": "ann extra assignment.ipynb",
      "provenance": [],
      "collapsed_sections": []
    },
    "kernelspec": {
      "name": "python3",
      "display_name": "Python 3"
    },
    "accelerator": "GPU"
  },
  "cells": [
    {
      "cell_type": "code",
      "metadata": {
        "id": "F0G338PLHMm2",
        "colab_type": "code",
        "outputId": "d984fb04-ed5f-46a3-d91d-5527f2d377fa",
        "colab": {
          "base_uri": "https://localhost:8080/",
          "height": 34
        }
      },
      "source": [
        "%matplotlib inline\n",
        "import numpy as np\n",
        "import matplotlib.pyplot as plt\n",
        "import torch\n",
        "import torch.nn as nn\n",
        "import torch.optim as optim\n",
        "import torch.nn.functional as F\n",
        "import torchvision\n",
        "import time\n",
        "\n",
        "# check if CUDA is available\n",
        "train_on_gpu = torch.cuda.is_available()\n",
        "\n",
        "if not train_on_gpu:\n",
        "    print('CUDA is not available.  Training on CPU ...')\n",
        "else:\n",
        "    print('CUDA is available!  Training on GPU ...')"
      ],
      "execution_count": 36,
      "outputs": [
        {
          "output_type": "stream",
          "text": [
            "CUDA is available!  Training on GPU ...\n"
          ],
          "name": "stdout"
        }
      ]
    },
    {
      "cell_type": "code",
      "metadata": {
        "id": "NUalLwfTI8xU",
        "colab_type": "code",
        "colab": {}
      },
      "source": [
        "from torchvision import datasets, transforms\n",
        "\n",
        "# Define a transform to normalize the data\n",
        "transform = transforms.Compose([transforms.ToTensor(),\n",
        "                              transforms.Normalize((0.5,), (0.5,)),\n",
        "                              ])\n",
        "\n",
        "# Download and load the training data\n",
        "trainset = datasets.MNIST('~/.pytorch/MNIST_data/', download=True, train=True, transform=transform)\n",
        "trainloader = torch.utils.data.DataLoader(trainset, batch_size=64, shuffle=True)\n",
        "testset = datasets.MNIST('~/.pytorch/MNIST_data/', download=True, train=False, transform=transform)\n",
        "testloader = torch.utils.data.DataLoader(trainset, batch_size=64, shuffle=True)"
      ],
      "execution_count": 0,
      "outputs": []
    },
    {
      "cell_type": "code",
      "metadata": {
        "id": "nWFoGGQMI-27",
        "colab_type": "code",
        "outputId": "a4300009-023b-44bf-d842-f5213ce3b8ae",
        "colab": {
          "base_uri": "https://localhost:8080/",
          "height": 67
        }
      },
      "source": [
        "dataiter = iter(trainloader)\n",
        "images, labels = dataiter.next()\n",
        "print(type(images))\n",
        "print(images.shape)\n",
        "print(labels.shape)"
      ],
      "execution_count": 38,
      "outputs": [
        {
          "output_type": "stream",
          "text": [
            "<class 'torch.Tensor'>\n",
            "torch.Size([64, 1, 28, 28])\n",
            "torch.Size([64])\n"
          ],
          "name": "stdout"
        }
      ]
    },
    {
      "cell_type": "code",
      "metadata": {
        "id": "Xh7Kf_S6I_FW",
        "colab_type": "code",
        "outputId": "f733aed4-8a9b-4a1a-9db1-e594d4a79328",
        "colab": {
          "base_uri": "https://localhost:8080/",
          "height": 265
        }
      },
      "source": [
        "plt.imshow(images[1].numpy().squeeze(), cmap='Greys_r');"
      ],
      "execution_count": 39,
      "outputs": [
        {
          "output_type": "display_data",
          "data": {
            "image/png": "[encoded data removed]",
            "text/plain": [
              "<Figure size 432x288 with 1 Axes>"
            ]
          },
          "metadata": {
            "tags": [],
            "needs_background": "light"
          }
        }
      ]
    },
    {
      "cell_type": "code",
      "metadata": {
        "id": "OlgNhaYjI_Sn",
        "colab_type": "code",
        "colab": {}
      },
      "source": [
        "class LeNet5(nn.Module):\n",
        "\n",
        "    \n",
        "    def __init__(self):\n",
        "        super(LeNet5, self).__init__()\n",
        "        self.C1 = nn.Conv2d(1, 32, kernel_size=(3, 3))\n",
        "        self.C2 = nn.Conv2d(32, 64, kernel_size=(3, 3))\n",
        "        self.S3 = nn.MaxPool2d(kernel_size=(2, 2), stride=2)\n",
        "        self.F5 = nn.Linear(9216,128)\n",
        "        self.dropout1 = nn.Dropout(p=0.25)\n",
        "        self.dropout2 = nn.Dropout(p=0.5)\n",
        "        # output layer\n",
        "        self.OL = nn.Linear(128, 10)\n",
        "        \n",
        "    def forward(self, x):\n",
        "        \n",
        "  \n",
        "        x =  self.S3(F.relu(self.C2(self.C1(x))))\n",
        "        x = x.view(-1, 9216)\n",
        "        x =  self.dropout1(x)\n",
        "        x =  F.relu(self.F5(x))\n",
        "        x =  self.dropout2(x)\n",
        "        x =  x.view(x.size(0), -1) \n",
        "        x = F.log_softmax(self.OL(x), dim=1)\n",
        "        return x\n",
        "\n",
        "model=LeNet5()        \n",
        "        "
      ],
      "execution_count": 0,
      "outputs": []
    },
    {
      "cell_type": "code",
      "metadata": {
        "id": "T5f2eOOhhhK7",
        "colab_type": "code",
        "outputId": "d002bd92-6384-42dd-c1ef-e02ddcadf90f",
        "colab": {
          "base_uri": "https://localhost:8080/",
          "height": 286
        }
      },
      "source": [
        "for device in [ 'cpu','cuda']:\n",
        "  model.to(device)\n",
        "  ntrain = images.shape[0];  # number of training examples\n",
        "  nepoch = 7;                   \n",
        "\n",
        "  optimizer = optim.SGD(model.parameters(), lr=0.1)\n",
        "  criterion = nn.NLLLoss()\n",
        "  for iepoch in range(nepoch):\n",
        "\n",
        "      model.train()  \n",
        "      train_loss = 0\n",
        "      optimizer.zero_grad()\n",
        "      for images, labels in trainloader:\n",
        "        images, labels = images.to(device), labels.to(device)   \n",
        "        optimizer.zero_grad()\n",
        "        start = time.time()\n",
        "        logits = model(images)\n",
        "        loss = criterion(logits, labels)\n",
        "        train_loss += loss.item()\n",
        "        loss.backward()\n",
        "        optimizer.step()\n",
        "         \n",
        "     \n",
        "      print(f\"Training loss: {train_loss/len(trainloader)}\")     \n",
        "  print(f\"Device = {device}; Time per batch: {(time.time() - start)/3:.3f} seconds\")"
      ],
      "execution_count": 42,
      "outputs": [
        {
          "output_type": "stream",
          "text": [
            "Training loss: 0.25887538891619266\n",
            "Training loss: 0.09929009890213593\n",
            "Training loss: 0.07639223789976937\n",
            "Training loss: 0.06377856046987027\n",
            "Training loss: 0.054822534252368195\n",
            "Training loss: 0.0473607827608696\n",
            "Training loss: 0.04287828010720894\n",
            "Device = cpu; Time per batch: 0.015 seconds\n",
            "Training loss: 0.03876938024309398\n",
            "Training loss: 0.03326686443105689\n",
            "Training loss: 0.032122594469201085\n",
            "Training loss: 0.030080452082809735\n",
            "Training loss: 0.02700204211575136\n",
            "Training loss: 0.02733600677362383\n",
            "Training loss: 0.025287737768056043\n",
            "Device = cuda; Time per batch: 0.001 seconds\n"
          ],
          "name": "stdout"
        }
      ]
    },
    {
      "cell_type": "code",
      "metadata": {
        "id": "Axr4Rcfghhh0",
        "colab_type": "code",
        "outputId": "490094f7-fc4e-46e5-fcbe-9ac34f86d960",
        "colab": {
          "base_uri": "https://localhost:8080/",
          "height": 252
        }
      },
      "source": [
        "if train_on_gpu:\n",
        "  model.cuda()\n",
        "test_loss = 0.0\n",
        "classes = ['1', '2', '3', '4', '5', '6', '7', '8', '9', '0']\n",
        "class_correct = list(0. for i in range(10))\n",
        "class_total = list(0. for i in range(10))\n",
        "batch_size = 32\n",
        "model.eval()\n",
        "\n",
        "for images, labels in testloader:\n",
        "    if train_on_gpu:\n",
        "        images, labels = images.cuda(), labels.cuda()\n",
        "    logits = model(images)\n",
        "    loss = criterion(logits, labels)\n",
        "    test_loss += loss.item()\n",
        "    _, pred = torch.max(logits, 1)  \n",
        "    correct_tensor = pred.eq(labels.data.view_as(pred))\n",
        "    correct =  np.squeeze(correct_tensor.cpu().numpy())\n",
        "    \n",
        "    for i in range(batch_size):\n",
        "        label = labels.data[i]\n",
        "        class_correct[label] += correct[i].item()\n",
        "        class_total[label] += 1\n",
        "\n",
        "\n",
        "test_loss = test_loss/len(testloader.dataset)\n",
        "print('Test Loss: {:.6f}\\n'.format(test_loss))\n",
        "\n",
        "for i in range(10):\n",
        "    if class_total[i] > 0:\n",
        "        print('Test Accuracy of %5s: %.6f%% (%2d/%2d)' % (\n",
        "            classes[i], 100 * class_correct[i] / class_total[i],\n",
        "            np.sum(class_correct[i]), np.sum(class_total[i])))\n",
        "    else:\n",
        "        print('Test Accuracy of %5s: N/A (no training examples)' % (classes[i]))\n",
        "\n",
        "print('\\nTest Accuracy (Overall): %.6f%% (%2d/%2d)' % (\n",
        "    100. * np.sum(class_correct) / np.sum(class_total),\n",
        "    np.sum(class_correct), np.sum(class_total)))      \n",
        "         \n",
        "     "
      ],
      "execution_count": 43,
      "outputs": [
        {
          "output_type": "stream",
          "text": [
            "Test Loss: 0.000073\n",
            "\n",
            "Test Accuracy of     1: 100.000000% (2946/2946)\n",
            "Test Accuracy of     2: 99.909802% (3323/3326)\n",
            "Test Accuracy of     3: 99.934512% (3052/3054)\n",
            "Test Accuracy of     4: 99.837820% (3078/3083)\n",
            "Test Accuracy of     5: 99.931834% (2932/2934)\n",
            "Test Accuracy of     6: 99.961905% (2624/2625)\n",
            "Test Accuracy of     7: 99.830967% (2953/2958)\n",
            "Test Accuracy of     8: 99.591580% (3170/3183)\n",
            "Test Accuracy of     9: 100.000000% (2978/2978)\n",
            "Test Accuracy of     0: 99.795152% (2923/2929)\n",
            "\n",
            "Test Accuracy (Overall): 99.876732% (29979/30016)\n"
          ],
          "name": "stdout"
        }
      ]
    }
  ]
}